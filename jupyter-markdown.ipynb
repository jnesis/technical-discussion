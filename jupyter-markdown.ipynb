{
 "cells": [
  {
   "cell_type": "code",
   "execution_count": 1,
   "metadata": {
    "scrolled": true
   },
   "outputs": [
    {
     "name": "stdout",
     "output_type": "stream",
     "text": [
      "hello world\n"
     ]
    }
   ],
   "source": [
    "print(\"hello world\")"
   ]
  },
  {
   "cell_type": "markdown",
   "metadata": {},
   "source": [
    "# Practice Markdown\n",
    "\n",
    "* Unordered item #1\n",
    "* Unordered item #2\n",
    "\n",
    "\n",
    "1. Ordered item #1\n",
    "2. Ordered item #2\n",
    "4. Does number matter?\n",
    "    1. sub item 1\n",
    "        1. 3rd level item #1\n",
    "        2. 3rd level item #2\n",
    "    2. sub-item 2\n",
    "    \n",
    "\n",
    "### Links\n",
    "[GitHub](http://github.com)"
   ]
  },
  {
   "cell_type": "code",
   "execution_count": null,
   "metadata": {},
   "outputs": [],
   "source": []
  }
 ],
 "metadata": {
  "kernelspec": {
   "display_name": "Python 3",
   "language": "python",
   "name": "python3"
  },
  "language_info": {
   "codemirror_mode": {
    "name": "ipython",
    "version": 3
   },
   "file_extension": ".py",
   "mimetype": "text/x-python",
   "name": "python",
   "nbconvert_exporter": "python",
   "pygments_lexer": "ipython3",
   "version": "3.7.6"
  }
 },
 "nbformat": 4,
 "nbformat_minor": 4
}
