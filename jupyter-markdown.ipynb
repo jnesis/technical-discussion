{
  "nbformat": 4,
  "nbformat_minor": 0,
  "metadata": {
    "kernelspec": {
      "display_name": "Python 3",
      "language": "python",
      "name": "python3"
    },
    "language_info": {
      "codemirror_mode": {
        "name": "ipython",
        "version": 3
      },
      "file_extension": ".py",
      "mimetype": "text/x-python",
      "name": "python",
      "nbconvert_exporter": "python",
      "pygments_lexer": "ipython3",
      "version": "3.7.6"
    },
    "colab": {
      "name": "jupyter-markdown.ipynb",
      "provenance": [],
      "include_colab_link": true
    }
  },
  "cells": [
    {
      "cell_type": "markdown",
      "metadata": {
        "id": "view-in-github",
        "colab_type": "text"
      },
      "source": [
        "<a href=\"https://colab.research.google.com/github/jnesis/technical-discussion/blob/main/jupyter-markdown.ipynb\" target=\"_parent\"><img src=\"https://colab.research.google.com/assets/colab-badge.svg\" alt=\"Open In Colab\"/></a>"
      ]
    },
    {
      "cell_type": "code",
      "metadata": {
        "scrolled": true,
        "id": "4RGwwswOzFUG",
        "outputId": "4ccd84ed-9464-4e60-d979-cce6a03751c0",
        "colab": {
          "base_uri": "https://localhost:8080/"
        }
      },
      "source": [
        "print(\"hello world\")"
      ],
      "execution_count": 1,
      "outputs": [
        {
          "output_type": "stream",
          "text": [
            "hello world\n"
          ],
          "name": "stdout"
        }
      ]
    },
    {
      "cell_type": "markdown",
      "metadata": {
        "id": "i2_DYicpzFUJ"
      },
      "source": [
        "# Practice Markdown\n",
        "\n",
        "* Unordered item #1\n",
        "* Unordered item #2\n",
        "\n",
        "\n",
        "1. Ordered item #1\n",
        "2. Ordered item #2\n",
        "4. Does number matter?\n",
        "    1. sub item 1\n",
        "        1. 3rd level item #1\n",
        "        2. 3rd level item #2\n",
        "    2. sub-item 2\n",
        "    \n",
        "\n",
        "### Links\n",
        "[GitHub](http://github.com)"
      ]
    },
    {
      "cell_type": "code",
      "metadata": {
        "id": "0OgWJH8bzFUJ"
      },
      "source": [
        ""
      ],
      "execution_count": null,
      "outputs": []
    }
  ]
}